{
 "cells": [
  {
   "cell_type": "code",
   "execution_count": 1,
   "id": "a7e3113f",
   "metadata": {},
   "outputs": [],
   "source": [
    "def new_name(data):\n",
    "    new = []\n",
    "    for col in df.columns:\n",
    "        print(col)\n",
    "        a = col.strip().lower()\n",
    "        b = a.replace('.','_')\n",
    "        new.append(b)    \n",
    "    return new\n",
    "#we want the columns to be typed correctly"
   ]
  },
  {
   "cell_type": "code",
   "execution_count": null,
   "id": "95aece4d",
   "metadata": {},
   "outputs": [],
   "source": [
    "word_counts = {word: 0 for word in terms}\n",
    "\n",
    "# loop through the words in the list\n",
    "for word in terms:\n",
    "    Injuries['Word_count'] = Injuries['Injury'].str.count(word)\n",
    "    word_counts[word] = Injuries['Word_count'].sum()\n",
    "\n",
    "print(word_counts)\n",
    "\n",
    "sum_of_values_legs = 0\n",
    "for value in word_counts.values():\n",
    "    sum_of_values_legs += value\n",
    "\n",
    "print(sum_of_values_legs)"
   ]
  },
  {
   "cell_type": "code",
   "execution_count": null,
   "id": "46cfa5c4",
   "metadata": {},
   "outputs": [],
   "source": []
  }
 ],
 "metadata": {
  "kernelspec": {
   "display_name": "ironhack",
   "language": "python",
   "name": "ironhack"
  },
  "language_info": {
   "codemirror_mode": {
    "name": "ipython",
    "version": 3
   },
   "file_extension": ".py",
   "mimetype": "text/x-python",
   "name": "python",
   "nbconvert_exporter": "python",
   "pygments_lexer": "ipython3",
   "version": "3.9.12"
  },
  "toc": {
   "base_numbering": 1,
   "nav_menu": {},
   "number_sections": true,
   "sideBar": true,
   "skip_h1_title": false,
   "title_cell": "Table of Contents",
   "title_sidebar": "Contents",
   "toc_cell": false,
   "toc_position": {},
   "toc_section_display": true,
   "toc_window_display": false
  }
 },
 "nbformat": 4,
 "nbformat_minor": 5
}
