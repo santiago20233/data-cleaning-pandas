{
 "cells": [
  {
   "cell_type": "code",
   "execution_count": 244,
   "id": "39eec652",
   "metadata": {},
   "outputs": [],
   "source": [
    "import pandas as pd\n",
    "import numpy as np\n",
    "import matplotlib as plt\n",
    "import re"
   ]
  },
  {
   "cell_type": "code",
   "execution_count": null,
   "id": "43799eb0",
   "metadata": {},
   "outputs": [],
   "source": []
  },
  {
   "cell_type": "code",
   "execution_count": 148,
   "id": "901c5df7",
   "metadata": {},
   "outputs": [],
   "source": [
    "shark2 = pd.read_csv('clean_sharks.csv')"
   ]
  },
  {
   "cell_type": "code",
   "execution_count": 223,
   "id": "6bb4b7f2",
   "metadata": {},
   "outputs": [
    {
     "data": {
      "text/plain": [
       "6267"
      ]
     },
     "execution_count": 223,
     "metadata": {},
     "output_type": "execute_result"
    }
   ],
   "source": [
    "shark2[\"Injury\"].dropna()\n",
    "shark2[\"Injury\"].isna\n",
    "Injuries = shark2[shark2[\"Injury\"]!=0]\n",
    "Injuries[\"Injury\"].value_counts().sum()"
   ]
  },
  {
   "cell_type": "code",
   "execution_count": 235,
   "id": "75063354",
   "metadata": {},
   "outputs": [
    {
     "name": "stdout",
     "output_type": "stream",
     "text": [
      "{'Hip': 14.0, 'hip': 52.0, 'Pelvis': 0.0, 'pelvis': 4.0, 'Thigh': 93.0, 'thigh': 343.0, 'Groin': 1.0, 'groin': 8.0, 'Knee': 24.0, 'knee': 137.0, 'Shin': 7.0, 'shin': 37.0, 'Calf': 52.0, 'calf': 217.0, 'Ankle': 45.0, 'ankle': 197.0, 'ankles': 2.0, 'Ankles': 1.0, 'Foot': 192.0, 'foot': 599.0, 'Heel': 23.0, 'heel': 50.0, 'Arch': 0.0, 'arch': 8.0, 'Toe': 10.0, 'toe': 44.0, 'Sole': 1.0, 'sole': 18.0, 'legs': 81.0, 'Legs': 26.0, 'feet': 28.0, 'Feet': 7.0, 'leg': 758.0, 'Leg': 242.0}\n",
      "3321.0\n"
     ]
    }
   ],
   "source": [
    "terms = [\n",
    "    \"Hip\", \"hip\",\n",
    "    \"Pelvis\", \"pelvis\",\n",
    "    \"Thigh\", \"thigh\",\n",
    "    \"Groin\", \"groin\",\n",
    "    \"Knee\", \"knee\",\n",
    "    \"Shin\",  \"shin\",\n",
    "    \"Calf\", \"calf\", \n",
    "    \"Ankle\", \"ankle\", \"ankles\", \"Ankles\",\n",
    "    \"Foot\", \"foot\",\n",
    "    \"Heel\", \"heel\",\n",
    "    \"Arch\", \"arch\",\n",
    "    \"Toe\", \"toe\",\n",
    "    \"Sole\", \"sole\",\n",
    "    \"legs\",\"Legs\",\n",
    "    \"feet\", \"Feet\",\n",
    "    \"leg\", \"Leg\", \"legs\", \"Legs\"\n",
    "]\n",
    "\n",
    "\n",
    "word_counts = {word: 0 for word in terms}\n",
    "\n",
    "# loop through the words in the list\n",
    "for word in terms:\n",
    "    Injuries['Word_count'] = Injuries['Injury'].str.count(word)\n",
    "    word_counts[word] = Injuries['Word_count'].sum()\n",
    "\n",
    "print(word_counts)\n",
    "\n",
    "sum_of_values_legs = 0\n",
    "for value in word_counts.values():\n",
    "    sum_of_values_legs += value\n",
    "\n",
    "print(sum_of_values_legs)"
   ]
  },
  {
   "cell_type": "code",
   "execution_count": 237,
   "id": "a68fe711",
   "metadata": {},
   "outputs": [
    {
     "name": "stdout",
     "output_type": "stream",
     "text": [
      "{'Shoulder': 14.0, 'shoulder': 77.0, 'shoulders': 1.0, 'Shoulders': 0.0, 'Bicep': 1.0, 'bicep': 4.0, 'Tricep': 0.0, 'tricep': 0.0, 'Elbow': 5.0, 'elbow': 44.0, 'Forearm': 21.0, 'forearm': 148.0, 'Wrist': 8.0, 'wrist': 62.0, 'Hand': 105.0, 'hand': 383.0, 'Fingers': 9.0, 'fingers': 41.0, 'Finger': 24.0, 'finger': 76.0, 'Thumb': 8.0, 'thumb': 12.0, 'Arm': 105.0, 'arm': 503.0}\n",
      "1651.0\n"
     ]
    }
   ],
   "source": [
    "terms = [\n",
    "    \"Shoulder\", \"shoulder\" , \"shoulders\" , \"Shoulders\",\n",
    "    \"Bicep\", \"bicep\",\n",
    "    \"Tricep\", \"tricep\",   \n",
    "    \"Elbow\", \"elbow\",   \n",
    "    \"Forearm\", \"forearm\",   \n",
    "    \"Wrist\", \"wrist\",   \n",
    "    \"Hand\", \"hand\",  \n",
    "    \"Fingers\", \"fingers\", \"Finger\", \"finger\",   \n",
    "    \"Thumb\", \"thumb\",\n",
    "    \"Arm\", \"arm\"\n",
    "]\n",
    "\n",
    "\n",
    "word_counts = {word: 0 for word in terms}\n",
    "\n",
    "# loop through the words in the list\n",
    "for word in terms:\n",
    "    Injuries['Word_count'] = Injuries['Injury'].str.count(word)\n",
    "    word_counts[word] = Injuries['Word_count'].sum()\n",
    "\n",
    "print(word_counts)\n",
    "\n",
    "sum_of_values_arm = 0\n",
    "for value in word_counts.values():\n",
    "    sum_of_values_arm += value\n",
    "\n",
    "print(sum_of_values_arm)"
   ]
  },
  {
   "cell_type": "code",
   "execution_count": 243,
   "id": "a2b1d49c",
   "metadata": {},
   "outputs": [
    {
     "data": {
      "image/png": "[encoded data removed]",
      "text/plain": [
       "<Figure size 432x288 with 1 Axes>"
      ]
     },
     "metadata": {
      "needs_background": "light"
     },
     "output_type": "display_data"
    }
   ],
   "source": [
    "x_value = sum_of_values_arm\n",
    "y_value = sum_of_values_legs\n",
    "\n",
    "bar_width = 0.35\n",
    "\n",
    "plt.bar(0, x_value, bar_width, color='orange')\n",
    "plt.bar(1, y_value, bar_width, color='green')\n",
    "\n",
    "plt.xlabel('Part of the body attacked')\n",
    "plt.ylabel('Amount of injuries')\n",
    "plt.title('Comparison between arm and leg injuries')\n",
    "\n",
    "plt.xticks([0, 1], ['Arm injuries', 'Leg injuries'])\n",
    "\n",
    "plt.show()"
   ]
  },
  {
   "cell_type": "code",
   "execution_count": null,
   "id": "ee7226e8",
   "metadata": {},
   "outputs": [],
   "source": []
  },
  {
   "cell_type": "code",
   "execution_count": null,
   "id": "7f2a0223",
   "metadata": {},
   "outputs": [],
   "source": []
  },
  {
   "cell_type": "code",
   "execution_count": 152,
   "id": "93015e43",
   "metadata": {
    "scrolled": true
   },
   "outputs": [
    {
     "data": {
      "image/png": "[encoded data removed]",
      "text/plain": [
       "<Figure size 432x288 with 1 Axes>"
      ]
     },
     "metadata": {
      "needs_background": "light"
     },
     "output_type": "display_data"
    }
   ],
   "source": [
    "sns.histplot(x=shark2.Age,bins=100, fill = None, kde = True);"
   ]
  },
  {
   "cell_type": "code",
   "execution_count": 153,
   "id": "de2d58f6",
   "metadata": {},
   "outputs": [],
   "source": [
    "#The most common age to get attacked by a shark is 17"
   ]
  },
  {
   "cell_type": "code",
   "execution_count": 155,
   "id": "3665f81f",
   "metadata": {},
   "outputs": [
    {
     "data": {
      "text/plain": [
       "USA                       2227\n",
       "AUSTRALIA                 1337\n",
       "SOUTH AFRICA               579\n",
       "PAPUA NEW GUINEA           134\n",
       "NEW ZEALAND                128\n",
       "                          ... \n",
       "MALDIVE ISLANDS              1\n",
       "NICARAGUA                    1\n",
       "NORTH SEA                    1\n",
       "RED SEA / INDIAN OCEAN       1\n",
       "CEYLON (SRI LANKA)           1\n",
       "Name: Country, Length: 212, dtype: int64"
      ]
     },
     "execution_count": 155,
     "metadata": {},
     "output_type": "execute_result"
    }
   ],
   "source": [
    "Cnt = shark2[\"Country\"].value_counts()\n",
    "Cnt"
   ]
  },
  {
   "cell_type": "code",
   "execution_count": 217,
   "id": "1f34af9f",
   "metadata": {},
   "outputs": [
    {
     "data": {
      "image/png": "[encoded data removed]",
      "text/plain": [
       "<Figure size 432x288 with 1 Axes>"
      ]
     },
     "metadata": {},
     "output_type": "display_data"
    }
   ],
   "source": [
    "\n",
    "top_6 = shark2['Country'].value_counts().head(4)\n",
    "\n",
    "# Plot the pie chart\n",
    "plt.pie(top_6, labels=top_6.index, startangle=90)\n",
    "plt.axis('equal')\n",
    "plt.show()"
   ]
  },
  {
   "cell_type": "code",
   "execution_count": 216,
   "id": "e725f6ba",
   "metadata": {},
   "outputs": [
    {
     "data": {
      "text/plain": [
       "<AxesSubplot:title={'center':'Difference by gender'}>"
      ]
     },
     "execution_count": 216,
     "metadata": {},
     "output_type": "execute_result"
    },
    {
     "data": {
      "image/png": "[encoded data removed]",
      "text/plain": [
       "<Figure size 432x288 with 1 Axes>"
      ]
     },
     "metadata": {
      "needs_background": "light"
     },
     "output_type": "display_data"
    }
   ],
   "source": [
    "shark2[\"Sex\"].value_counts().plot(kind=\"bar\", title=\"Difference by gender\")"
   ]
  },
  {
   "cell_type": "code",
   "execution_count": 158,
   "id": "010415b4",
   "metadata": {},
   "outputs": [],
   "source": [
    "#Result: The sharks favourite meal is a 17 year old american boy"
   ]
  },
  {
   "cell_type": "code",
   "execution_count": 159,
   "id": "9dc6dc5c",
   "metadata": {},
   "outputs": [
    {
     "data": {
      "image/png": "[encoded data removed]",
      "text/plain": [
       "<Figure size 432x288 with 1 Axes>"
      ]
     },
     "metadata": {
      "needs_background": "light"
     },
     "output_type": "display_data"
    }
   ],
   "source": [
    "sns.histplot(x=shark2.Year,bins=100, fill = None, kde = True);"
   ]
  },
  {
   "cell_type": "code",
   "execution_count": 188,
   "id": "3d3bcafe",
   "metadata": {},
   "outputs": [],
   "source": [
    "yearly = shark2[shark2[\"Year\"]!=0]"
   ]
  },
  {
   "cell_type": "code",
   "execution_count": 206,
   "id": "8ffb7eb6",
   "metadata": {},
   "outputs": [
    {
     "data": {
      "text/plain": [
       "3283"
      ]
     },
     "execution_count": 206,
     "metadata": {},
     "output_type": "execute_result"
    }
   ],
   "source": [
    "yearly_2000 = yearly[yearly[\"Year\"]>1973]\n",
    "x = yearly_2000[\"Year\"].value_counts().sum()\n",
    "x"
   ]
  },
  {
   "cell_type": "code",
   "execution_count": 207,
   "id": "2d0cc9e8",
   "metadata": {},
   "outputs": [
    {
     "data": {
      "text/plain": [
       "2858"
      ]
     },
     "execution_count": 207,
     "metadata": {},
     "output_type": "execute_result"
    }
   ],
   "source": [
    "yearly_1999 = yearly[yearly[\"Year\"]<1973]\n",
    "y = yearly_1999[\"Year\"].value_counts().sum()\n",
    "y"
   ]
  },
  {
   "cell_type": "code",
   "execution_count": 211,
   "id": "1bdd579e",
   "metadata": {},
   "outputs": [
    {
     "data": {
      "image/png": "[encoded data removed]",
      "text/plain": [
       "<Figure size 432x288 with 1 Axes>"
      ]
     },
     "metadata": {
      "needs_background": "light"
     },
     "output_type": "display_data"
    }
   ],
   "source": [
    "\n",
    "x_value = y\n",
    "y_value = x\n",
    "\n",
    "bar_width = 0.35\n",
    "\n",
    "plt.bar(0, x_value, bar_width, color='darkblue')\n",
    "plt.bar(1, y_value, bar_width, color='darkgreen')\n",
    "\n",
    "plt.xlabel('Number of deaths')\n",
    "plt.ylabel('Values Count')\n",
    "plt.title('Comparison between deaths in the past 50 years and before')\n",
    "\n",
    "plt.xticks([0, 1], ['Deaths before 1973', 'Deaths after 1973'])\n",
    "\n",
    "plt.show()\n",
    "\n",
    "\n"
   ]
  },
  {
   "cell_type": "code",
   "execution_count": null,
   "id": "64e4d6af",
   "metadata": {},
   "outputs": [],
   "source": []
  }
 ],
 "metadata": {
  "kernelspec": {
   "display_name": "ironhack",
   "language": "python",
   "name": "ironhack"
  },
  "language_info": {
   "codemirror_mode": {
    "name": "ipython",
    "version": 3
   },
   "file_extension": ".py",
   "mimetype": "text/x-python",
   "name": "python",
   "nbconvert_exporter": "python",
   "pygments_lexer": "ipython3",
   "version": "3.9.12"
  },
  "toc": {
   "base_numbering": 1,
   "nav_menu": {},
   "number_sections": true,
   "sideBar": true,
   "skip_h1_title": false,
   "title_cell": "Table of Contents",
   "title_sidebar": "Contents",
   "toc_cell": false,
   "toc_position": {},
   "toc_section_display": true,
   "toc_window_display": false
  }
 },
 "nbformat": 4,
 "nbformat_minor": 5
}
